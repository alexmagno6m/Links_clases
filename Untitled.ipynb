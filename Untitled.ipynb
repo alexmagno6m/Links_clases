{
 "cells": [
  {
   "cell_type": "markdown",
   "id": "f2eedddd-d852-4e08-9b49-904d91d31e67",
   "metadata": {},
   "source": [
    "Voto"
   ]
  },
  {
   "cell_type": "markdown",
   "id": "6858bbf7-22e5-4dec-a438-8976c4f45ed0",
   "metadata": {},
   "source": [
    "[https://cutt.ly/VrrBjoIS](https://cutt.ly/VrrBjoIS)"
   ]
  }
 ],
 "metadata": {
  "kernelspec": {
   "display_name": "Python 3 (ipykernel)",
   "language": "python",
   "name": "python3"
  },
  "language_info": {
   "codemirror_mode": {
    "name": "ipython",
    "version": 3
   },
   "file_extension": ".py",
   "mimetype": "text/x-python",
   "name": "python",
   "nbconvert_exporter": "python",
   "pygments_lexer": "ipython3",
   "version": "3.12.1"
  }
 },
 "nbformat": 4,
 "nbformat_minor": 5
}
