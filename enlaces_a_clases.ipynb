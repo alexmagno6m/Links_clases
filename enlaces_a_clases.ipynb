{
 "cells": [
  {
   "cell_type": "markdown",
   "id": "811c7a11-c4eb-47dc-badb-ddb96b5a937d",
   "metadata": {},
   "source": [
    "# Link Clases"
   ]
  },
  {
   "cell_type": "markdown",
   "id": "5d18d8f8-49c0-4e15-a1e6-59b9249e6ead",
   "metadata": {},
   "source": [
    "Seleccione la clase de acuerdo a su curso"
   ]
  },
  {
   "cell_type": "markdown",
   "id": "29210847-5081-4351-b02d-c6857660d712",
   "metadata": {},
   "source": [
    "|     Grado    |     Clase                                 |     Link                        |\n",
    "|--------------|-------------------------------------------|---------------------------------|\n",
    "|     9        |     Informática                           |     https://cutt.ly/Be6jiSqZ    |\n",
    "|     10       |     Informática                           |     https://cutt.ly/DAEgCEZ     |\n",
    "|     10       |     Media – Línea de Programación         |     https://cutt.ly/0AfF1Nb     |\n",
    "|     10       |     Media – Línea de Química Ambiental    |     https://cutt.ly/2eTAe0uC    |\n",
    "|     11       |     Informática                           |     https://cutt.ly/0Airg0m     |\n",
    "|     11       |     Media - Línea de Programación         |     https://cutt.ly/aAir02P     |"
   ]
  },
  {
   "cell_type": "code",
   "execution_count": null,
   "id": "79a04317",
   "metadata": {},
   "outputs": [],
   "source": []
  }
 ],
 "metadata": {
  "kernelspec": {
   "display_name": "Python 3 (ipykernel)",
   "language": "python",
   "name": "python3"
  },
  "language_info": {
   "codemirror_mode": {
    "name": "ipython",
    "version": 3
   },
   "file_extension": ".py",
   "mimetype": "text/x-python",
   "name": "python",
   "nbconvert_exporter": "python",
   "pygments_lexer": "ipython3",
   "version": "3.9.4"
  },
  "toc": {
   "base_numbering": 1,
   "nav_menu": {},
   "number_sections": true,
   "sideBar": true,
   "skip_h1_title": false,
   "title_cell": "Table of Contents",
   "title_sidebar": "Contents",
   "toc_cell": false,
   "toc_position": {},
   "toc_section_display": true,
   "toc_window_display": false
  }
 },
 "nbformat": 4,
 "nbformat_minor": 5
}
